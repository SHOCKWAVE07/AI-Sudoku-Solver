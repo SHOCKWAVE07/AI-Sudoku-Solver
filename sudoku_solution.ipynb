{
  "nbformat": 4,
  "nbformat_minor": 0,
  "metadata": {
    "colab": {
      "name": "sudoku_solution.ipynb",
      "provenance": [],
      "collapsed_sections": []
    },
    "kernelspec": {
      "name": "python3",
      "display_name": "Python 3"
    }
  },
  "cells": [
    {
      "cell_type": "markdown",
      "metadata": {
        "id": "lnjiMu1VhEXE",
        "colab_type": "text"
      },
      "source": [
        "**Solving Sudoku Puzzle Using Neural Network**\n",
        "\n",
        "The **classic sudoku** is a number placing puzzle game with a grid of **9 rows and 9 columns**, partly filled with **numbers 1..9** . We have to fill up the remaining positions such that each **row, columns and 3x3 sub grids** contains numbers 1..9, **without repeatation**.\n",
        "\n",
        "Here our **input** is an **image of sudoku** puzzle and we need to produce a corresponding **output image** by filling the remaining positions of the input. The pipeline for the **solution** consists of the following steps.\n",
        "\n",
        "1. Preprocess the input image and remove the background\n",
        "2. Crop subregions containing digits from the grid\n",
        "3. Predict numbers from image crops using neural network\n",
        "4. Predict solution using neural network in an iterative manner\n",
        "5. Verify the solution and plot the resuts on the input image\n",
        "\n",
        "![picture](https://drive.google.com/uc?export=view&id=1VnRccmRBtTRFhk3Oq5ThfZbJQ92RYAkB)\n",
        "\n",
        "\n",
        "\n",
        "**Note:** We use **tensorflow-keras** library for training(prediction) the neural network and **opencv** library for image processing."
      ]
    },
    {
      "cell_type": "code",
      "metadata": {
        "id": "_1M7QDcgpRsC",
        "colab_type": "code",
        "colab": {}
      },
      "source": [
        "import cv2\n",
        "import numpy as np\n",
        "import math\n",
        "import os\n",
        "\n",
        "import matplotlib.pyplot as plt\n",
        "from skimage.util import view_as_blocks\n",
        "from tensorflow.keras.models import load_model\n",
        "\n",
        "# Read input sudoku image \n",
        "img =  cv2.imread(\"/content/drive/My Drive/sudoku/IMG_20200622_174425.jpg\")\n",
        "\n",
        "# Preprocess the input image\n",
        "img = cv2.resize(img,(1026,1026))\n",
        "imgray = cv2.cvtColor(img, cv2.COLOR_BGR2GRAY)\n",
        "thresh = cv2.adaptiveThreshold(imgray, 255, cv2.ADAPTIVE_THRESH_GAUSSIAN_C,cv2.THRESH_BINARY_INV,21,21)\n",
        "\n",
        "# Find the largest contour and approximate the polygonal curve\n",
        "contours, _ = cv2.findContours(thresh, cv2.RETR_EXTERNAL, cv2.CHAIN_APPROX_SIMPLE)\n",
        "cnt = max(contours, key = cv2.contourArea)\n",
        "epsilon = 0.1*cv2.arcLength(cnt,True)\n",
        "cnt = cv2.approxPolyDP(cnt,epsilon,True).squeeze()\n",
        "\n",
        "# Sort co-ordinates in top-left raster order\n",
        "cor_list=cnt.tolist()\n",
        "ord_list=sorted(cor_list[:2])+sorted(cor_list[2:]) \n",
        "\n",
        "# Apply perspective transformation and get the  warped image\n",
        "pts1 = np.float32(ord_list) #raster \n",
        "pts2 = np.float32([[0,0],[1026,0],[0,1026],[1026,1026]])\n",
        "M = cv2.getPerspectiveTransform(pts1,pts2)\n",
        "out_gry = cv2.warpPerspective(img,M,(1026,1026))\n",
        "out_bin = cv2.warpPerspective(thresh,M,(1026,1026))\n",
        "\n",
        "# Save the binary and grayscale outputs\n",
        "cv2.imwrite('puzzle.jpg', out_gry)\n",
        "cv2.imwrite('puzzle_bin.jpg', out_bin)\n",
        "\n",
        "# Show the grayscale output image\n",
        "plt.imshow(out_gry)"
      ],
      "execution_count": null,
      "outputs": []
    },
    {
      "cell_type": "markdown",
      "metadata": {
        "id": "BkHFcI1Fw8Y2",
        "colab_type": "text"
      },
      "source": [
        "**Crop ROI Blocks**\n",
        "\n",
        "Here, we use the previous **binarized** version of **output image**  for further processing.\n",
        "\n",
        "* Divide the image into **9 rows and 9 columns** roughly along the grid patterns in the original image, such that each **block** containig the digits have **same sizes**.\n",
        "* For each such block in the image we **crop the ROI**(81x81) containing the digits(or blank) from center. The croppred regions are **dilated** using morphological transformations and **resized** to **32x32** size.\n",
        "* If the ROI regions are **blank spaces** representing unfilled positions, we replace them with a **template** image of digit **zero**. \n",
        "\n",
        "Finally, save these entire batch of images as a **float numpy array**, in order and **plot** the results."
      ]
    },
    {
      "cell_type": "code",
      "metadata": {
        "id": "lPgRFrCQZM1i",
        "colab_type": "code",
        "colab": {}
      },
      "source": [
        "# Crop square ROI from the center of image\n",
        "def crop_center(img,cropx,cropy):\n",
        "    \n",
        "    y,x = img.shape[0],img.shape[1]\n",
        "    startx = x//2-(cropx//2)\n",
        "    starty = y//2-(cropy//2)    \n",
        "    \n",
        "    return img[starty:starty+cropy,startx:startx+cropx]\n",
        "\n",
        "# Dilate the image and resize to 32x32 resolution\n",
        "def dilate_resize(img):\n",
        "  \n",
        "  kernel = np.ones((6,6),np.uint8)\n",
        "  \n",
        "  img=cv2.dilate(img,kernel,iterations = 1)\n",
        "  img=cv2.resize(img,(32,32),cv2.INTER_AREA)\n",
        "  \n",
        "  return img\n",
        "\n",
        "# Fill the blank regions with image of zero\n",
        "def zero_fill(img):\n",
        "\n",
        "  zero=cv2.imread('/content/drive/My Drive/sudoku/mzero.png', cv2.IMREAD_GRAYSCALE)*255 # UINT8 0..255\n",
        "  contours, _ = cv2.findContours(img, cv2.RETR_EXTERNAL, cv2.CHAIN_APPROX_SIMPLE)\n",
        "  \n",
        "  if len(contours) == 0 or cv2.contourArea( max(contours, key = cv2.contourArea))<50:\n",
        "    return zero\n",
        "  else:\n",
        "    return img\n",
        "\n",
        "# Get crop size for square blocks\n",
        "imgheight=out_bin.shape[0]\n",
        "imgwidth=out_bin.shape[1]\n",
        "H,W = imgheight//9, imgwidth//9\n",
        "\n",
        "# For each block crop roi and append to list\n",
        "sudokus=[]\n",
        "for y in range(0,imgheight,H):\n",
        "    for x in range(0, imgwidth, W):\n",
        "        y1 = y + H\n",
        "        x1 = x + W\n",
        "        tiles = out_bin[y:y+H,x:x+W]\n",
        "        digits = crop_center(tiles,81,81)\n",
        "        digits = dilate_resize(digits)\n",
        "        digits =  zero_fill(digits)\n",
        "        sudokus.append(digits/255.0)\n",
        "\n",
        "# Create a float numpy array with 81 images from list\n",
        "sudoku_numbers=np.float32(sudokus).reshape(81,32,32,1)\n",
        "\n",
        "# Plot the images using matplotlib\n",
        "fig=plt.figure(figsize=(8, 8))\n",
        "columns = 9\n",
        "rows = 9\n",
        "for i in range(1, columns*rows +1):\n",
        "    img = sudoku_numbers[i-1]\n",
        "    fig.add_subplot(rows, columns, i)\n",
        "    plt.imshow(img.squeeze())\n",
        "plt.show()"
      ],
      "execution_count": null,
      "outputs": []
    },
    {
      "cell_type": "markdown",
      "metadata": {
        "id": "d75pSs4ExNE_",
        "colab_type": "text"
      },
      "source": [
        "**Predict Digits From Images**\n",
        "\n",
        "* Load the **cnn model** trained on **SVHN dataset** and **predict** the output for the entire batch of **81 images**.\n",
        "* The model **classifies** images of numbers **0 to 9** (i.e 10 class) and has **output shape**: (batch_size, 10)\n",
        "* Perform **argmax** on the last dimension of output(81x10) and reshape them to **9x9** dimension."
      ]
    },
    {
      "cell_type": "code",
      "metadata": {
        "id": "IafwMDZiQsjH",
        "colab_type": "code",
        "colab": {
          "base_uri": "https://localhost:8080/",
          "height": 173
        },
        "outputId": "0eddfc92-1bc6-4f9c-86bd-a3e2037791c6"
      },
      "source": [
        "# Predict the numbers from images, using neural network\n",
        "model=load_model('/content/drive/My Drive/sudoku/digit_full-196-0.14.hdf5')\n",
        "out=model.predict(sudoku_numbers)\n",
        "puzzle=np.argmax(out,axis=-1).reshape((9,9))\n",
        "print(puzzle)"
      ],
      "execution_count": 3,
      "outputs": [
        {
          "output_type": "stream",
          "text": [
            "[[4 0 1 9 0 6 3 7 2]\n",
            " [0 3 6 0 0 4 1 0 9]\n",
            " [0 0 5 0 0 0 8 0 0]\n",
            " [6 9 0 2 0 0 0 0 4]\n",
            " [1 4 0 8 0 5 0 0 0]\n",
            " [0 5 0 0 4 0 2 6 0]\n",
            " [7 0 0 0 1 8 6 0 0]\n",
            " [0 0 0 5 9 0 0 2 1]\n",
            " [0 0 4 0 3 0 0 0 0]]\n"
          ],
          "name": "stdout"
        }
      ]
    },
    {
      "cell_type": "markdown",
      "metadata": {
        "id": "IltUOCFtchHJ",
        "colab_type": "text"
      },
      "source": [
        "**Note:** The model was trained on **entire shvn** dataset(train, test and extra) in **grayscale** mode. It acheived training **accuracy of 96 percent**."
      ]
    },
    {
      "cell_type": "markdown",
      "metadata": {
        "id": "7ei9o-0CJJvG",
        "colab_type": "text"
      },
      "source": [
        "**Solve Sudoku Puzzle**\n",
        "\n",
        "The sudoku solver model takes as **input** an array of shape **9x9** representing the digits in the puzzle, from  the previous step.\n",
        "\n",
        "* We **subtract mean and normalize** them to range **-0.5 to 0.5**, before feeding the entire batch as input to the model for **prediction**.\n",
        "\n",
        "* In  each iteration we select the **elements** in the output(9x9) with **maximum probability**(1 or more) for the digits and fill those digits in the **corresponding positions** in the **input** array.\n",
        "\n",
        "* We **repeat** the iterations with the new **modified input**, until there are **no unfilled locations** in the input (i.e no zeros).\n",
        "\n",
        "Finally, print the **results** for each **iteration** and show the **final output** "
      ]
    },
    {
      "cell_type": "code",
      "metadata": {
        "id": "JGryb45uJd-t",
        "colab_type": "code",
        "colab": {}
      },
      "source": [
        "# Load the sudoku solver neural network\n",
        "solver=load_model('/content/drive/My Drive/sudoku/sudoku-245-0.24.hdf5')\n",
        "\n",
        "'''\n",
        "Sudoku Solver :-\n",
        "The function takes a sudoku matrix of 9x9 with numbers 0...9 as input(i.e 'puzzle').\n",
        "Zeros represents the blank spaces in the original puzzle.\n",
        "Each iteration produces an output array of 9x9 with numbers 1...9 (i.e 'out').\n",
        "For each such output array, 'maxp'(9x9) contains the corresponding probability values.\n",
        "For each filled(non-zero) element in input array we set corresponding probability in 'maxp' o -1.\n",
        "Now, find the maximum elements in 'maxp' and set the corresponding positions of input with corresponding values from current output.\n",
        "Repeat the iterations with modified input(i.e 'puzzle'), until all elements are filled (ie. no zeros).\n",
        "'''\n",
        "def sudoku_solve(puzzle):\n",
        "  \n",
        "  iter=0\n",
        "\n",
        "  while 0 in puzzle :\n",
        "\n",
        "    input_norm=(puzzle/9) - 0.5\n",
        "    input_puzz=np.float32(input_norm.reshape(1,9,9,1))\n",
        "    output_puzz=solver.predict(input_puzz)\n",
        "\n",
        "    out=np.argmax(output_puzz,axis=-1).squeeze()+1\n",
        "    maxp=np.max(output_puzz,axis=-1).squeeze()\n",
        "\n",
        "    indices=np.where(puzzle==out)\n",
        "    maxp[indices]=-1.0\n",
        "\n",
        "    indices=np.where(maxp==maxp.max())\n",
        "    puzzle[indices]=out[indices]\n",
        "\n",
        "    print(\"\\n>>> Iteration :\",iter,\"\\n\")\n",
        "    X,Y = indices\n",
        "    iter = iter + 1\n",
        "    for index, (x, y) in enumerate(zip(X, Y)):\n",
        "        print ((x, y), \" : \", out[indices][index] )\n",
        "\n",
        "\n",
        "  return puzzle\n",
        "\n",
        "solution=sudoku_solve(puzzle.copy())\n",
        "\n",
        "print(\"\\n======SOLUTION======\\n\")\n",
        "print(solution)"
      ],
      "execution_count": null,
      "outputs": []
    },
    {
      "cell_type": "markdown",
      "metadata": {
        "id": "BNOWZZO7eP0m",
        "colab_type": "text"
      },
      "source": [
        "**Note:** The model was trained on a dataset with **10 million** sudoku puzzles. It  achieved a training **accuracy of 90 percent**."
      ]
    },
    {
      "cell_type": "markdown",
      "metadata": {
        "id": "WNwIVEldx0ar",
        "colab_type": "text"
      },
      "source": [
        "**Verify And Plot Solution**\n",
        "\n",
        "Check the solution to see if it passes all the **test cases** for a correct solution.\n",
        "* Verify if each **row, column and block** contains numbers **0 to 9** in the final solution.(verification)\n",
        "* Also check if the **original digits** in the inital input were **modified** in the final solution.(validation)\n",
        "* Plot the new **digits** from solution in their corresponding positions on the input **grayscale image**."
      ]
    },
    {
      "cell_type": "code",
      "metadata": {
        "id": "hghx87EYVCE7",
        "colab_type": "code",
        "colab": {}
      },
      "source": [
        "# Verify the sudoku solution\n",
        "def check_sudoku(puzzle, solution):\n",
        "  \n",
        "  # Verify if initially filled elements of input changes in solution\n",
        "  for i in range(81):\n",
        "     if puzzle.flatten()[i] != 0:\n",
        "       if puzzle.flatten()[i] != solution.flatten()[i]:\n",
        "         print(\"Wrong solution\")\n",
        "         return \n",
        "        \n",
        "  blocks=view_as_blocks(solution, (3, 3)).reshape(9,9)\n",
        "  nos=np.arange(1,10)\n",
        "\n",
        "  # Check uniqueness of rows, columns and blocks in solution\n",
        "  for i in range(9):\n",
        "    if not np.array_equal(np.unique(solution[i]), nos):\n",
        "       print(\"Wrong solution\") # rows mismatch\n",
        "       return \n",
        "    elif not np.array_equal(np.unique(solution.T[i]), nos):\n",
        "       print(\"Wrong solution\") # columns mismatch\n",
        "       return\n",
        "    elif not np.array_equal(np.unique(blocks[i]), nos):\n",
        "       print(\"Wrong solution\") # blocks mismatch\n",
        "       return \n",
        "  \n",
        "  print(\"Correct solution\")\n",
        "\n",
        "check_sudoku(puzzle, solution)\n",
        "\n",
        "# Plot the results over the original image\n",
        "def show_output(puzzle, solution, sudoku):\n",
        "\n",
        "  for i in range(9):\n",
        "    for j in range(9):\n",
        "      pos=(37+114*j, 77+114*i)\n",
        "      if puzzle[i,j] == 0:\n",
        "        cv2.putText(sudoku,str(solution[i,j]),pos, cv2.FONT_HERSHEY_SIMPLEX, 2, 0,5)\n",
        "\n",
        "  plt.imshow(sudoku)\n",
        "\n",
        "show_output(puzzle.copy(),solution.copy(),out_gry.copy())"
      ],
      "execution_count": null,
      "outputs": []
    }
  ]
}